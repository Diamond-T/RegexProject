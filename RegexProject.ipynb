{
 "cells": [
  {
   "cell_type": "code",
   "execution_count": 12,
   "id": "da5e9203",
   "metadata": {},
   "outputs": [
    {
     "name": "stdout",
     "output_type": "stream",
     "text": [
      "<module 're' from '/opt/anaconda3/lib/python3.8/re.py'>\n"
     ]
    }
   ],
   "source": [
    "import re\n",
    "print(re)"
   ]
  },
  {
   "cell_type": "code",
   "execution_count": 19,
   "id": "6bebb603",
   "metadata": {},
   "outputs": [
    {
     "name": "stdout",
     "output_type": "stream",
     "text": [
      "Abraham Lincoln\n",
      "Andrew P Garfield\n",
      "Connor Milliken\n",
      "Jordan Alexander Williams\n",
      "Madonna\n",
      "programming is cool\n",
      "\n"
     ]
    }
   ],
   "source": [
    "#open file\n",
    "file = open('regex_test.txt')\n",
    "\n",
    "\n",
    "\n",
    "#data now equals file and to read file\n",
    "data = file.read()\n",
    "\n",
    "print(data)\n",
    "\n",
    "file.close()"
   ]
  },
  {
   "cell_type": "code",
   "execution_count": 22,
   "id": "91b8a41a",
   "metadata": {
    "scrolled": true
   },
   "outputs": [
    {
     "name": "stdout",
     "output_type": "stream",
     "text": [
      "Abraham Lincoln\n",
      "Andrew P Garfield\n",
      "Connor Milliken\n",
      "Jordan Alexander Williams\n",
      "Madonna\n",
      "programming is cool\n",
      "\n"
     ]
    }
   ],
   "source": [
    "with open('regex_test.txt') as file:\n",
    "    names_data = file.read()\n",
    "    print(names_data)"
   ]
  },
  {
   "cell_type": "code",
   "execution_count": 134,
   "id": "d4189191",
   "metadata": {
    "scrolled": true
   },
   "outputs": [
    {
     "name": "stdout",
     "output_type": "stream",
     "text": [
      "[('Abraham', 'Lincoln'), ('Andrew', 'P'), ('Connor', 'Milliken'), ('Jordan', 'Alexander')]\n",
      "Abraham Lincoln\n",
      " Andrew P Garfield\n",
      " Connor Milliken\n",
      " Jordan Alexander Williams\n",
      " Madonna \n"
     ]
    },
    {
     "ename": "SyntaxError",
     "evalue": "'return' outside function (<ipython-input-134-0bda9e39edbd>, line 17)",
     "output_type": "error",
     "traceback": [
      "\u001b[0;36m  File \u001b[0;32m\"<ipython-input-134-0bda9e39edbd>\"\u001b[0;36m, line \u001b[0;32m17\u001b[0m\n\u001b[0;31m    return \"none\"\u001b[0m\n\u001b[0m    ^\u001b[0m\n\u001b[0;31mSyntaxError\u001b[0m\u001b[0;31m:\u001b[0m 'return' outside function\n"
     ]
    }
   ],
   "source": [
    "#Use python to read the file regex_test.txt and print the last name on each line using regular expressions\n",
    "#and groups (return None for names with no first and last name, or names that aren't properly capitalized)\n",
    "\n",
    "string_given = \"Abraham Lincoln, Andrew P Garfield, Connor Milliken, Jordan Alexander Williams, Madonna \"\n",
    "\n",
    "\n",
    "\n",
    "last_name = re.compile('(?P<first>[a-zA-Z]+) (?P<last>[[A-Za-z]+)')\n",
    "  \n",
    "print_names = last_name.findall(string_given)\n",
    "print(print_names)\n",
    "\n",
    "for name in string_given.split(','):\n",
    "    match = last_name.search(name)\n",
    "    print(name)\n",
    "    \n",
    "return \"none\"\n",
    "        \n",
    "         \n",
    "\n",
    "\n",
    "\n",
    "\n",
    "\n",
    "\n",
    "\"\"\"\n",
    "Abraham Lincoln\n",
    "Andrew P Garfield\n",
    "Connor Milliken\n",
    "Jordan Alexander Williams\n",
    "None\n",
    "None\n",
    "\"\"\"\n",
    "\n",
    "\n"
   ]
  },
  {
   "cell_type": "code",
   "execution_count": null,
   "id": "972cb615",
   "metadata": {},
   "outputs": [],
   "source": []
  },
  {
   "cell_type": "code",
   "execution_count": null,
   "id": "d9792de0",
   "metadata": {},
   "outputs": [],
   "source": []
  },
  {
   "cell_type": "code",
   "execution_count": null,
   "id": "9babe111",
   "metadata": {},
   "outputs": [],
   "source": []
  }
 ],
 "metadata": {
  "kernelspec": {
   "display_name": "Python 3",
   "language": "python",
   "name": "python3"
  },
  "language_info": {
   "codemirror_mode": {
    "name": "ipython",
    "version": 3
   },
   "file_extension": ".py",
   "mimetype": "text/x-python",
   "name": "python",
   "nbconvert_exporter": "python",
   "pygments_lexer": "ipython3",
   "version": "3.8.8"
  }
 },
 "nbformat": 4,
 "nbformat_minor": 5
}
